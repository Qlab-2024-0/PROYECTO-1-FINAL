{
  "nbformat": 4,
  "nbformat_minor": 0,
  "metadata": {
    "colab": {
      "provenance": [],
      "include_colab_link": true
    },
    "kernelspec": {
      "name": "python3",
      "display_name": "Python 3"
    },
    "language_info": {
      "name": "python"
    }
  },
  "cells": [
    {
      "cell_type": "markdown",
      "metadata": {
        "id": "view-in-github",
        "colab_type": "text"
      },
      "source": [
        "<a href=\"https://colab.research.google.com/github/luccemhu/PROYECTO-1-FINAL/blob/main/limpieza.ipynb\" target=\"_parent\"><img src=\"https://colab.research.google.com/assets/colab-badge.svg\" alt=\"Open In Colab\"/></a>"
      ]
    },
    {
      "cell_type": "code",
      "execution_count": null,
      "metadata": {
        "id": "6gm0rpuggRkq"
      },
      "outputs": [],
      "source": [
        "# Importamos:\n",
        "import pandas as pd\n",
        "import numpy as np"
      ]
    },
    {
      "cell_type": "markdown",
      "source": [
        "Índice de Desarrollo Humano a nivel distrital, 2017"
      ],
      "metadata": {
        "id": "WPprHISKyBMQ"
      }
    },
    {
      "cell_type": "code",
      "source": [
        "df1 = \"https://github.com/luccemhu/PROYECTO-1-FINAL/raw/main/IDH_PNUD_2017.xlsx\"\n",
        "\n",
        "# Identificamos las hojas del excel:\n",
        "excel_file = pd.ExcelFile(df1)\n",
        "hojas = excel_file.sheet_names # sheets\n",
        "\n",
        "for nombre_hoja in hojas:\n",
        "    print(nombre_hoja)"
      ],
      "metadata": {
        "id": "KTpZxci5L3ZH"
      },
      "execution_count": null,
      "outputs": []
    },
    {
      "cell_type": "code",
      "source": [
        "# Escogemos la hoja 'Distrital'\n",
        "df = pd.read_excel(df1, sheet_name='Distrital')\n",
        "df"
      ],
      "metadata": {
        "id": "7t3jqQxFjOu4"
      },
      "execution_count": null,
      "outputs": []
    },
    {
      "cell_type": "markdown",
      "source": [],
      "metadata": {
        "id": "xIiyb_JylIcA"
      }
    },
    {
      "cell_type": "code",
      "source": [
        "# Primero seleccionamos las columnas de nuestro interés:\n",
        "# Previamente hemos revisado\n",
        "columnas_seleccionadas = ['Unnamed: 2', 'Unnamed: 5', 'Unnamed: 7',\n",
        "                          'Unnamed: 9', 'Unnamed: 11', 'Unnamed: 13',\n",
        "                          'Unnamed: 15']\n",
        "df_seleccionado = df[columnas_seleccionadas]\n",
        "df_seleccionado"
      ],
      "metadata": {
        "id": "odgLTz8WjOVR"
      },
      "execution_count": null,
      "outputs": []
    },
    {
      "cell_type": "code",
      "source": [
        "# Borramos los NaN\n",
        "df_sin_datos_perdidos = df_seleccionado.dropna()\n",
        "df_sin_datos_perdidos\n",
        "\n",
        "# Reseteamos el index\n",
        "df_reiniciado = df_sin_datos_perdidos.reset_index(drop=True)\n",
        "print(df_reiniciado)\n",
        "\n",
        "# Borramos la primera fila. Contiene valores str\n",
        "df_sin_primera_fila = df_reiniciado.drop(0)\n",
        "print(df_sin_primera_fila)\n",
        "\n",
        "# Reseteamos el index\n",
        "idh_distrital = df_sin_primera_fila.reset_index(drop=True)\n",
        "print(idh_distrital)\n",
        "\n",
        "# Renombramos las columnas elegidas previamente:\n",
        "nuevos_nombres = ['distrito', 'poblacion', 'idh','esperanza_vida',\n",
        "                  'edu_completa', 'year_educa', 'ingresos']\n",
        "idh_distrital.columns = nuevos_nombres\n",
        "print(idh_distrital)"
      ],
      "metadata": {
        "id": "bAwzXzTJjOIQ"
      },
      "execution_count": null,
      "outputs": []
    },
    {
      "cell_type": "code",
      "source": [
        "# data limpia:\n",
        "idh_distrital\n",
        "# Exportamos la data en formato csv:\n",
        "#idh_distrital.to_csv(c:/Joel/qlab, index=False)"
      ],
      "metadata": {
        "id": "eCsx4NpujOdX"
      },
      "execution_count": null,
      "outputs": []
    },
    {
      "cell_type": "code",
      "source": [
        "idh_distrital.shape"
      ],
      "metadata": {
        "id": "CVO80HfH3JOP"
      },
      "execution_count": null,
      "outputs": []
    },
    {
      "cell_type": "code",
      "source": [
        "# Importamos\n",
        "import altair as alt"
      ],
      "metadata": {
        "id": "ON_0XaLryAgS"
      },
      "execution_count": null,
      "outputs": []
    },
    {
      "cell_type": "markdown",
      "source": [
        "# **Primer gráfico**\n",
        "- Relación de dos o más indicadores\n",
        "\n",
        "## **Relación entre la población mayor de 18 años con educación secundaria completa y el ingreso familiar per cápita:**"
      ],
      "metadata": {
        "id": "O6oE3-LNTtgb"
      }
    },
    {
      "cell_type": "code",
      "source": [
        "# relación de dos o más indicadores:\n",
        "alt.Chart(idh_distrital).mark_point().encode(\n",
        "    x = alt.X(\"edu_completa:Q\"),\n",
        "    y = alt.Y(\"ingresos:Q\"),\n",
        "    tooltip = [\"distrito\", \"edu_completa\"]\n",
        "    ).interactive()"
      ],
      "metadata": {
        "id": "R2lAs6AD41Zz"
      },
      "execution_count": null,
      "outputs": []
    },
    {
      "cell_type": "code",
      "source": [
        "\n",
        "def promedio_ingresos(year_educa):\n",
        "  \"\"\"Calcula el ingreso promedio en función del promedio de años de estudio.\"\"\"\n",
        "  promedio_ingresos = idh_distrital['ingresos'].mean()\n",
        "  promedio_year_educa = idh_distrital['year_educa'].mean()\n",
        "  return promedio_ingresos * (year_educa / promedio_year_educa)\n",
        "\n",
        "\n",
        "promedio_ingresos(15)"
      ],
      "metadata": {
        "id": "xL4_55V2CPs2"
      },
      "execution_count": null,
      "outputs": []
    },
    {
      "cell_type": "code",
      "source": [
        "anos_estudio = list(range(1, 11))\n",
        "ingresos_resultantes = []\n",
        "\n",
        "# Calcular ingresos para cada año de estudio\n",
        "for ano in anos_estudio:\n",
        "    ingresos = promedio_ingresos(ano)\n",
        "    ingresos_resultantes.append(ingresos)\n",
        "\n",
        "# Crear el gráfico de barras\n",
        "plt.bar(anos_estudio, ingresos_resultantes, color='skyblue')\n",
        "plt.xlabel('Años de Estudio')\n",
        "plt.ylabel('Ingresos Resultantes')\n",
        "plt.title('Ingresos en función de los Años de Estudio')\n",
        "plt.show()"
      ],
      "metadata": {
        "id": "T0vsnRneGhCk"
      },
      "execution_count": null,
      "outputs": []
    },
    {
      "cell_type": "code",
      "source": [
        "alt.Chart(idh_distrital).mark_point().encode(\n",
        "    x = alt.X(\"idh\"),\n",
        "        y = alt.Y(\"distrito\"),\n",
        "    color = \"idh\"\n",
        "    )"
      ],
      "metadata": {
        "id": "_f46j6UTyCFo"
      },
      "execution_count": null,
      "outputs": []
    },
    {
      "cell_type": "code",
      "source": [],
      "metadata": {
        "id": "1-FNJZ3EgU0U"
      },
      "execution_count": null,
      "outputs": []
    },
    {
      "cell_type": "code",
      "source": [
        "# GRÁFICO DE BARRAS\n",
        "\n",
        "alt.Chart(idh_distrital).mark_bar().encode(\n",
        "y = alt.Y(\"year_educa\"),\n",
        "x = alt.X(\"ingresos\"))"
      ],
      "metadata": {
        "id": "r9NDNe8agUnd"
      },
      "execution_count": null,
      "outputs": []
    }
  ]
}